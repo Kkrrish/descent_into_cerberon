{
 "cells": [
  {
   "cell_type": "code",
   "execution_count": 3,
   "metadata": {},
   "outputs": [],
   "source": [
    "import numpy as np\n",
    "import matplotlib.pyplot as plt\n",
    "from sklearn.datasets import load_wine\n",
    "from sklearn.metrics import log_loss\n",
    "from sklearn.metrics import accuracy_score\n",
    "from sklearn.linear_model import LogisticRegression"
   ]
  },
  {
   "cell_type": "code",
   "execution_count": 4,
   "metadata": {},
   "outputs": [],
   "source": [
    "train_data, train_label = load_wine(return_X_y=True)\n",
    "\n",
    "#### Keeping only the first two classes to create a binary problem as instructed\n",
    "train_data = np.array(train_data[:(59+71)])\n",
    "train_label = np.array(train_label[:(59+71)])\n",
    "\n",
    "train_data = (train_data - train_data.mean(axis=0))/(train_data.max(axis=0)-train_data.min(axis=0))"
   ]
  },
  {
   "cell_type": "code",
   "execution_count": 5,
   "metadata": {},
   "outputs": [
    {
     "name": "stdout",
     "output_type": "stream",
     "text": [
      "0.0002656488462351898\n"
     ]
    }
   ],
   "source": [
    "logist_regr = LogisticRegression(solver='sag', penalty=None, max_iter=20000).fit(train_data, train_label)\n",
    "ideal_loss = log_loss(train_label, logist_regr.predict_proba(train_data))\n",
    "\n",
    "print(ideal_loss)"
   ]
  },
  {
   "cell_type": "code",
   "execution_count": 6,
   "metadata": {},
   "outputs": [],
   "source": [
    "def steepest_coord_descent(tr_data, tr_label, weights, max_iter=100000, lr=0.01):\n",
    "\n",
    "    loss_steepest_cd = []\n",
    "\n",
    "    for iter in range(max_iter):\n",
    "        #pred = 1./(1. + np.exp(-1. * np.matmul(weights.T, train_data.T)))\n",
    "        pred = 1./(1. + np.exp(-1. * np.dot(weights.T, tr_data.T)))\n",
    "\n",
    "        #print(pred)\n",
    "        iter_loss = -(1./len(tr_data)) * np.sum(\n",
    "            tr_label * np.log(pred) +\n",
    "            (1 - tr_label) * np.log(1. - pred)\n",
    "        )\n",
    "        loss_steepest_cd.append(iter_loss)\n",
    "        #print(iter_loss)\n",
    "\n",
    "        #partial_grads = np.sum(np.matmul((pred - train_label), train_data), axis=0) / len(train_data)\n",
    "        partial_grads = list(np.dot((pred - tr_label), tr_data)[0])\n",
    "        #print(partial_grads)\n",
    "        steepest_coord = np.argmax(np.abs(partial_grads))\n",
    "        weights[steepest_coord] = weights[steepest_coord] - lr * partial_grads[steepest_coord]\n",
    "        #print(weights[steepest_coord])\n",
    "\n",
    "    print(loss_steepest_cd[-1])\n",
    "    return weights, loss_steepest_cd"
   ]
  },
  {
   "cell_type": "code",
   "execution_count": 7,
   "metadata": {},
   "outputs": [
    {
     "name": "stdout",
     "output_type": "stream",
     "text": [
      "0.0003024634101822091\n"
     ]
    }
   ],
   "source": [
    "weights = np.zeros([len(train_data[0]), 1])\n",
    "lr = 0.02\n",
    "max_iter = 800000\n",
    "loss_steepest_cd = []\n",
    "\n",
    "weights_steepest_cd, loss_steepest_cd = steepest_coord_descent(train_data, train_label, weights, max_iter, lr)"
   ]
  }
 ],
 "metadata": {
  "kernelspec": {
   "display_name": "Python 3",
   "language": "python",
   "name": "python3"
  },
  "language_info": {
   "codemirror_mode": {
    "name": "ipython",
    "version": 3
   },
   "file_extension": ".py",
   "mimetype": "text/x-python",
   "name": "python",
   "nbconvert_exporter": "python",
   "pygments_lexer": "ipython3",
   "version": "3.9.6"
  }
 },
 "nbformat": 4,
 "nbformat_minor": 2
}
