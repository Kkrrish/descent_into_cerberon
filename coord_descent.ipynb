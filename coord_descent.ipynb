{
 "cells": [
  {
   "cell_type": "code",
   "execution_count": 1,
   "metadata": {},
   "outputs": [],
   "source": [
    "import numpy as np\n",
    "import matplotlib.pyplot as plt\n",
    "from sklearn.datasets import load_wine\n",
    "from sklearn.metrics import log_loss\n",
    "from sklearn.metrics import accuracy_score\n",
    "from sklearn.linear_model import LogisticRegression"
   ]
  },
  {
   "cell_type": "code",
   "execution_count": 2,
   "metadata": {},
   "outputs": [],
   "source": [
    "train_data, train_label = load_wine(return_X_y=True)\n",
    "\n",
    "#### Keeping only the first two classes to create a binary problem as instructed\n",
    "train_data = np.array(train_data[:(59+71)])\n",
    "train_label = np.array(train_label[:(59+71)])\n",
    "\n",
    "train_data = (train_data - train_data.mean(axis=0))/(train_data.max(axis=0)-train_data.min(axis=0))"
   ]
  },
  {
   "cell_type": "code",
   "execution_count": 3,
   "metadata": {},
   "outputs": [
    {
     "name": "stdout",
     "output_type": "stream",
     "text": [
      "0.0002595980939053694\n"
     ]
    }
   ],
   "source": [
    "logist_regr = LogisticRegression(solver='sag', penalty=None, max_iter=20000).fit(train_data, train_label)\n",
    "ideal_loss = log_loss(train_label, logist_regr.predict_proba(train_data))\n",
    "\n",
    "print(ideal_loss)"
   ]
  }
 ],
 "metadata": {
  "kernelspec": {
   "display_name": "Python 3",
   "language": "python",
   "name": "python3"
  },
  "language_info": {
   "codemirror_mode": {
    "name": "ipython",
    "version": 3
   },
   "file_extension": ".py",
   "mimetype": "text/x-python",
   "name": "python",
   "nbconvert_exporter": "python",
   "pygments_lexer": "ipython3",
   "version": "3.9.6"
  }
 },
 "nbformat": 4,
 "nbformat_minor": 2
}
