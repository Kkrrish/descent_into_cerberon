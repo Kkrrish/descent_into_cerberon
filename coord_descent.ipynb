{
 "cells": [
  {
   "cell_type": "code",
   "execution_count": 1,
   "metadata": {},
   "outputs": [],
   "source": [
    "import numpy as np\n",
    "import matplotlib.pyplot as plt\n",
    "from sklearn.datasets import load_wine\n",
    "from sklearn.metrics import log_loss\n",
    "from sklearn.metrics import accuracy_score\n",
    "from sklearn.linear_model import LogisticRegression"
   ]
  },
  {
   "cell_type": "code",
   "execution_count": 2,
   "metadata": {},
   "outputs": [],
   "source": [
    "train_data, train_label = load_wine(return_X_y=True)\n",
    "\n",
    "#### Keeping only the first two classes to create a binary problem as instructed\n",
    "train_data = np.array(train_data[:(59+71)])\n",
    "train_label = np.array(train_label[:(59+71)])\n",
    "\n",
    "train_data = (train_data - train_data.mean(axis=0))/(train_data.max(axis=0)-train_data.min(axis=0))"
   ]
  },
  {
   "cell_type": "code",
   "execution_count": 3,
   "metadata": {},
   "outputs": [
    {
     "name": "stdout",
     "output_type": "stream",
     "text": [
      "0.000261921424355175\n"
     ]
    }
   ],
   "source": [
    "logist_regr = LogisticRegression(solver='sag', penalty=None, max_iter=20000).fit(train_data, train_label)\n",
    "ideal_loss = log_loss(train_label, logist_regr.predict_proba(train_data))\n",
    "\n",
    "print(ideal_loss)"
   ]
  },
  {
   "cell_type": "code",
   "execution_count": 4,
   "metadata": {},
   "outputs": [],
   "source": [
    "def steepest_coord_descent(tr_data, tr_label, weights, max_iter=100000, lr=0.01, random_feature=False, sparsity_k=-1):\n",
    "    from scipy.special import expit\n",
    "    loss_steepest_cd = []\n",
    "\n",
    "    for iter in range(max_iter):\n",
    "        zero_weight_ids = np.where(weights == 0)[0]\n",
    "        zero_weight_ids = zero_weight_ids.astype(int)\n",
    "        #print(zero_weight_ids.shape[0])\n",
    "        #if(zero_weight_ids.shape[0] == sparsity_k):\n",
    "        #    print('Sparsity K zeroes left')\n",
    "        #pred = 1./(1. + np.exp(-1. * np.matmul(weights.T, train_data.T)))\n",
    "        #wx = np.dot(weights.T, tr_data.T)\n",
    "        #pred = 1./(1. + np.exp(-1. * np.dot(weights.T, tr_data.T)))\n",
    "        pred = expit(np.dot(weights.T, tr_data.T))\n",
    "\n",
    "        if(np.count_nonzero(pred) != pred.shape[0]):\n",
    "            pred_ids = np.where(pred == 0)[0]\n",
    "            pred_ids = pred_ids.astype(int)\n",
    "            pred[pred_ids] = 1e-10\n",
    "            pred_ids = np.where(pred == 1)[0]\n",
    "            pred_ids = pred_ids.astype(int)\n",
    "            pred[pred_ids] = 1-(1e-10)\n",
    "        #print(pred)\n",
    "        iter_loss = -(1./len(tr_data)) * np.sum(\n",
    "            tr_label * np.log(pred) +\n",
    "            (1 - tr_label) * np.log(1. - pred)\n",
    "        )\n",
    "        loss_steepest_cd.append(iter_loss)\n",
    "        #print(iter_loss)\n",
    "\n",
    "        #partial_grads = np.sum(np.matmul((pred - train_label), train_data), axis=0) / len(train_data)\n",
    "        partial_grads = np.dot((pred - tr_label), tr_data)[0]\n",
    "        #print(partial_grads)\n",
    "        if(zero_weight_ids.shape[0] == sparsity_k):\n",
    "            partial_grads[zero_weight_ids] = 0\n",
    "        if(random_feature):\n",
    "            update_coord = np.random.randint(0,len(partial_grads),1)[0]\n",
    "        else:\n",
    "            update_coord = np.argmax(np.abs(partial_grads))\n",
    "        weights[update_coord] = weights[update_coord] - lr * partial_grads[update_coord]\n",
    "        #print(weights[steepest_coord])\n",
    "\n",
    "    #print(loss_steepest_cd[-1])\n",
    "    return weights, loss_steepest_cd"
   ]
  },
  {
   "cell_type": "code",
   "execution_count": 5,
   "metadata": {},
   "outputs": [
    {
     "name": "stdout",
     "output_type": "stream",
     "text": [
      "Steepest CD, final loss:  0.0003024634101822091\n",
      "Random Feature CD, final loss:  0.0004675598394035392\n"
     ]
    }
   ],
   "source": [
    "weights = np.zeros([len(train_data[0]), 1])\n",
    "lr = 0.02\n",
    "max_iter = 800000\n",
    "loss_steepest_cd = []\n",
    "\n",
    "\n",
    "weights_steepest_cd, loss_steepest_cd = steepest_coord_descent(train_data, train_label, weights, max_iter, lr)\n",
    "print(\"Steepest CD, final loss: \", loss_steepest_cd[-1])\n",
    "\n",
    "weights = np.zeros([len(train_data[0]), 1])\n",
    "lr = 0.025\n",
    "loss_rand_feature = []\n",
    "weights_rand_feature, loss_rand_feature = steepest_coord_descent(train_data, train_label, weights, max_iter, lr, random_feature=True)\n",
    "print(\"Random Feature CD, final loss: \", loss_rand_feature[-1])"
   ]
  },
  {
   "cell_type": "code",
   "execution_count": 8,
   "metadata": {},
   "outputs": [
    {
     "name": "stdout",
     "output_type": "stream",
     "text": [
      "Sparse CD, K= 5 , final loss:  0.00026101696335379315\n",
      "Sparse CD, K= 6 , final loss:  0.0002627895881435116\n",
      "Sparse CD, K= 7 , final loss:  12.57565704639748\n",
      "Sparse CD, K= 8 , final loss:  12.57565704639748\n",
      "Sparse CD, K= 9 , final loss:  0.03882870000093751\n",
      "Sparse CD, K= 10 , final loss:  0.039862881597797856\n"
     ]
    }
   ],
   "source": [
    "weights = np.zeros([len(train_data[0]), 1])\n",
    "loss_sparse_cd = [[]]\n",
    "weights_sparse_cd = [[]]\n",
    "sparsity_k = [5, 6, 7, 8, 9, 10]\n",
    "for i in range(len(sparsity_k)):\n",
    "    weights = np.zeros([len(train_data[0]), 1])\n",
    "    w, l = steepest_coord_descent(train_data, train_label, weights, max_iter, lr, sparsity_k=sparsity_k[i])\n",
    "    weights_sparse_cd.append(w)\n",
    "    loss_sparse_cd.append(l)\n",
    "    \n",
    "weights_sparse_cd = weights_sparse_cd[1:]\n",
    "loss_sparse_cd = loss_sparse_cd[1:]\n",
    "\n",
    "for i in range(len(sparsity_k)):\n",
    "    print(\"Sparse CD, K=\", sparsity_k[i], \", final loss: \", loss_sparse_cd[i][-1])\n",
    "#print(loss_sparse_cd)\n",
    "#print(weights_sparse_cd)"
   ]
  }
 ],
 "metadata": {
  "kernelspec": {
   "display_name": "Python 3",
   "language": "python",
   "name": "python3"
  },
  "language_info": {
   "codemirror_mode": {
    "name": "ipython",
    "version": 3
   },
   "file_extension": ".py",
   "mimetype": "text/x-python",
   "name": "python",
   "nbconvert_exporter": "python",
   "pygments_lexer": "ipython3",
   "version": "3.9.6"
  }
 },
 "nbformat": 4,
 "nbformat_minor": 2
}
